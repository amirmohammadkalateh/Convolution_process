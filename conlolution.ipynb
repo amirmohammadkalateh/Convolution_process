{
  "nbformat": 4,
  "nbformat_minor": 0,
  "metadata": {
    "colab": {
      "provenance": [],
      "authorship_tag": "ABX9TyOC8QENN8KqPIW9vrbiuvVR",
      "include_colab_link": true
    },
    "kernelspec": {
      "name": "python3",
      "display_name": "Python 3"
    },
    "language_info": {
      "name": "python"
    }
  },
  "cells": [
    {
      "cell_type": "markdown",
      "metadata": {
        "id": "view-in-github",
        "colab_type": "text"
      },
      "source": [
        "<a href=\"https://colab.research.google.com/github/amirmohammadkalateh/Convolution_process/blob/main/conlolution.ipynb\" target=\"_parent\"><img src=\"https://colab.research.google.com/assets/colab-badge.svg\" alt=\"Open In Colab\"/></a>"
      ]
    },
    {
      "cell_type": "code",
      "execution_count": 3,
      "metadata": {
        "colab": {
          "base_uri": "https://localhost:8080/",
          "height": 868
        },
        "id": "ohFeQPzn9WX-",
        "outputId": "cc59334e-91a9-40c7-804e-1b8251302ab8"
      },
      "outputs": [
        {
          "output_type": "display_data",
          "data": {
            "text/plain": [
              "<Figure size 1200x600 with 7 Axes>"
            ],
            "image/png": "[encoded data removed]"
          },
          "metadata": {}
        },
        {
          "output_type": "display_data",
          "data": {
            "text/plain": [
              "<Figure size 640x480 with 0 Axes>"
            ]
          },
          "metadata": {}
        },
        {
          "output_type": "stream",
          "name": "stdout",
          "text": [
            "\n",
            "Convolved Image (using scipy.signal.convolve2d with 'same' padding):\n",
            "[[ 1 -3 -1  1  3]\n",
            " [ 1  4  3  0 -2]\n",
            " [ 1  2  3  4  8]\n",
            " [ 6  2  1  3 -1]\n",
            " [-4 -1  1 -2  2]]\n",
            "\n",
            "Convolved Image (using scipy.signal.convolve2d with 'valid' padding):\n",
            "[[4 3 0]\n",
            " [2 3 4]\n",
            " [2 1 3]]\n",
            "\n",
            "Convolved Image (using scipy.signal.convolve2d with padding=1, mode='valid'):\n",
            "[[ 1 -3 -1  1  3]\n",
            " [ 1  4  3  0 -2]\n",
            " [ 1  2  3  4  8]\n",
            " [ 6  2  1  3 -1]\n",
            " [-4 -1  1 -2  2]]\n"
          ]
        }
      ],
      "source": [
        "import numpy as np\n",
        "import matplotlib.pyplot as plt\n",
        "from scipy.signal import convolve2d\n",
        "import matplotlib.gridspec as gridspec\n",
        "\n",
        "def visualize_convolution(image, kernel, padding=0, stride=1):\n",
        "    \"\"\"\n",
        "    Performs 2D convolution and visualizes the process.\n",
        "\n",
        "    Args:\n",
        "        image (np.ndarray): The input image (2D array).\n",
        "        kernel (np.ndarray): The convolution kernel (2D array).\n",
        "        padding (int): The amount of zero-padding to apply.\n",
        "        stride (int): The stride of the convolution.\n",
        "    \"\"\"\n",
        "    image_padded = np.pad(image, padding, mode='constant')\n",
        "    kernel_height, kernel_width = kernel.shape\n",
        "    image_height_padded, image_width_padded = image_padded.shape\n",
        "    output_height = (image_height_padded - kernel_height) // stride + 1\n",
        "    output_width = (image_width_padded - kernel_width) // stride + 1\n",
        "    convolved_image = np.zeros((output_height, output_width))\n",
        "\n",
        "    fig = plt.figure(figsize=(12, 6))\n",
        "    gs = gridspec.GridSpec(2, 3, width_ratios=[1, 1, 1.5])\n",
        "\n",
        "    # Display Original Image\n",
        "    ax0 = plt.subplot(gs[0, 0])\n",
        "    ax0.imshow(image, cmap='gray')\n",
        "    ax0.set_title('Original Image')\n",
        "    ax0.axis('off')\n",
        "\n",
        "    # Display Kernel\n",
        "    ax1 = plt.subplot(gs[0, 1])\n",
        "    ax1.imshow(kernel, cmap='coolwarm')\n",
        "    ax1.set_title('Kernel')\n",
        "    ax1.axis('off')\n",
        "\n",
        "    # Convolution Process Visualization\n",
        "    ax2 = plt.subplot(gs[0, 2])\n",
        "    ax2.imshow(image_padded, cmap='gray')\n",
        "    ax2.set_title('Convolution Process')\n",
        "    ax2.axis('off')\n",
        "\n",
        "    ax3 = plt.subplot(gs[1, :])\n",
        "    ax3.imshow(convolved_image, cmap='gray')\n",
        "    ax3.set_title('Convolved Image')\n",
        "    ax3.axis('off')\n",
        "\n",
        "    kernel_center_y, kernel_center_x = kernel_height // 2, kernel_width // 2\n",
        "\n",
        "    for y in range(0, image_height_padded - kernel_height + 1, stride):\n",
        "        for x in range(0, image_width_padded - kernel_width + 1, stride):\n",
        "            patch = image_padded[y:y + kernel_height, x:x + kernel_width]\n",
        "            result = np.sum(patch * kernel)\n",
        "            convolved_image[y // stride, x // stride] = result\n",
        "\n",
        "            # Update the convolution process visualization\n",
        "            ax2.clear()\n",
        "            ax2.imshow(image_padded, cmap='gray')\n",
        "            ax2.set_title('Convolution Process')\n",
        "            ax2.axis('off')\n",
        "\n",
        "            # Highlight the current patch\n",
        "            rect = plt.Rectangle((x - 0.5, y - 0.5), kernel_width, kernel_height, linewidth=2, edgecolor='lime', facecolor='none')\n",
        "            ax2.add_patch(rect)\n",
        "\n",
        "            # Display the current patch and kernel for element-wise multiplication\n",
        "            ax_patch = fig.add_subplot(gs[1, 0])\n",
        "            ax_patch.imshow(patch, cmap='gray')\n",
        "            ax_patch.set_title('Current Patch')\n",
        "            ax_patch.axis('off')\n",
        "\n",
        "            ax_kernel_mult = fig.add_subplot(gs[1, 1])\n",
        "            ax_kernel_mult.imshow(kernel, cmap='coolwarm')\n",
        "            ax_kernel_mult.set_title('Kernel')\n",
        "            ax_kernel_mult.axis('off')\n",
        "\n",
        "            ax_result = fig.add_subplot(gs[1, 2])\n",
        "            ax_result.text(0.5, 0.5, f'Sum = {result:.2f}', fontsize=14, ha='center', va='center')\n",
        "            ax_result.set_title('Current Output')\n",
        "            ax_result.axis('off')\n",
        "\n",
        "            plt.pause(0.5)  # Pause to visualize each step\n",
        "            fig.delaxes(ax_patch)\n",
        "            fig.delaxes(ax_kernel_mult)\n",
        "            fig.delaxes(ax_result)\n",
        "\n",
        "    # Final Convolved Image\n",
        "    ax3.imshow(convolved_image, cmap='gray')\n",
        "    ax3.set_title('Convolved Image')\n",
        "    ax3.axis('off')\n",
        "\n",
        "    plt.tight_layout()\n",
        "    plt.show()\n",
        "\n",
        "if __name__ == \"__main__\":\n",
        "    # Example Image\n",
        "    image = np.array([[1, 5, 4, 3, 2],\n",
        "                      [2, 2, 3, 4, 5],\n",
        "                      [2, 1, 2, 1, 1],\n",
        "                      [1, 1, 2, 1, 4],\n",
        "                      [5, 2, 1, 3, 2]])\n",
        "\n",
        "    # Example Filter (Vertical Edge Detector)\n",
        "    kernel = np.array([[ 0,  1,  0],\n",
        "                       [ 0, -1,  0],\n",
        "                       [ 0,  1,  0]])\n",
        "\n",
        "    # Example with padding and stride\n",
        "    padding_amount = 1\n",
        "    stride_amount = 2  # Let's use a stride of 2 for demonstration\n",
        "\n",
        "    visualize_convolution(image, kernel, padding_amount, stride_amount)\n",
        "\n",
        "    # You can also use scipy's convolve2d for verification\n",
        "    convolved_image_scipy_same = convolve2d(image, kernel, mode='same') # 'same' padding here\n",
        "    print(\"\\nConvolved Image (using scipy.signal.convolve2d with 'same' padding):\")\n",
        "    print(convolved_image_scipy_same)\n",
        "\n",
        "    convolved_image_scipy_valid = convolve2d(image, kernel, mode='valid') # No padding\n",
        "    print(\"\\nConvolved Image (using scipy.signal.convolve2d with 'valid' padding):\")\n",
        "    print(convolved_image_scipy_valid)\n",
        "\n",
        "    # To simulate stride > 1 with convolve2d and padding, we'd typically convolve\n",
        "    # with a stride of 1 on the padded image and then potentially downsample\n",
        "    # the output if needed for direct comparison in all scenarios.\n",
        "    # For simplicity in this example, let's just show the 'valid' and 'same' modes.\n",
        "    image_padded_for_valid = np.pad(image, padding_amount, mode='constant')\n",
        "    convolved_image_padded_scipy_valid = convolve2d(image_padded_for_valid, kernel, mode='valid')\n",
        "    print(f\"\\nConvolved Image (using scipy.signal.convolve2d with padding={padding_amount}, mode='valid'):\")\n",
        "    print(convolved_image_padded_scipy_valid)"
      ]
    }
  ]
}